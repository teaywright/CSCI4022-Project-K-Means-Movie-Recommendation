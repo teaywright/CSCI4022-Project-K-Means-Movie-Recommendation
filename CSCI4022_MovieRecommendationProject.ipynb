{
 "cells": [
  {
   "cell_type": "markdown",
   "id": "0bbca57f",
   "metadata": {},
   "source": [
    "# CSCI 4022 Final Project: Movie Recommendation with K-Means\n",
    "\n",
    "## Kate McCarthy and Téa Wright"
   ]
  },
  {
   "cell_type": "markdown",
   "id": "90b4faf4",
   "metadata": {},
   "source": [
    "description of project? -- also put descriptions throughout"
   ]
  },
  {
   "cell_type": "code",
   "execution_count": null,
   "id": "3c4370d9",
   "metadata": {},
   "outputs": [],
   "source": [
    "import matplotlib.pyplot as plt\n",
    "import numpy as np\n",
    "import pandas as pd\n",
    "import scipy.stats as stats\n",
    "import statsmodels.api as sm"
   ]
  },
  {
   "cell_type": "code",
   "execution_count": null,
   "id": "541a9ac5",
   "metadata": {},
   "outputs": [],
   "source": [
    "# load in data as csv -- should we use numpy or pandas?"
   ]
  },
  {
   "cell_type": "code",
   "execution_count": null,
   "id": "516c5579",
   "metadata": {},
   "outputs": [],
   "source": [
    "# test cell -- make sure data sets are comparable sizes and look right"
   ]
  },
  {
   "cell_type": "code",
   "execution_count": null,
   "id": "f42675cc",
   "metadata": {},
   "outputs": [],
   "source": [
    "# get average score for each keyword for each user"
   ]
  },
  {
   "cell_type": "code",
   "execution_count": null,
   "id": "e6a80263",
   "metadata": {},
   "outputs": [],
   "source": [
    "#cluster users by keywords and their score"
   ]
  },
  {
   "cell_type": "code",
   "execution_count": null,
   "id": "4c8561e2",
   "metadata": {},
   "outputs": [],
   "source": [
    "#evaluate a user and get recommendations for them"
   ]
  }
 ],
 "metadata": {
  "kernelspec": {
   "display_name": "Python 3 (ipykernel)",
   "language": "python",
   "name": "python3"
  },
  "language_info": {
   "codemirror_mode": {
    "name": "ipython",
    "version": 3
   },
   "file_extension": ".py",
   "mimetype": "text/x-python",
   "name": "python",
   "nbconvert_exporter": "python",
   "pygments_lexer": "ipython3",
   "version": "3.9.7"
  }
 },
 "nbformat": 4,
 "nbformat_minor": 5
}
