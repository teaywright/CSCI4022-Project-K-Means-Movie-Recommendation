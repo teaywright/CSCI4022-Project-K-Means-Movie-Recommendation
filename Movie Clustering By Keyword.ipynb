{
 "cells": [
  {
   "cell_type": "code",
   "execution_count": 20,
   "id": "81b54bae",
   "metadata": {},
   "outputs": [
    {
     "name": "stderr",
     "output_type": "stream",
     "text": [
      "/Users/katemccarthy/opt/anaconda3/lib/python3.8/site-packages/IPython/core/interactiveshell.py:3165: DtypeWarning: Columns (10) have mixed types.Specify dtype option on import or set low_memory=False.\n",
      "  has_raised = await self.run_ast_nodes(code_ast.body, cell_name,\n"
     ]
    }
   ],
   "source": [
    "import numpy as np\n",
    "import pandas as pd\n",
    "\n",
    "keywords=pd.read_csv(\"database/keywords.csv\").set_index('id')\n",
    "#print(keywords.shape)\n",
    "#display(keywords.head())\n",
    "\n",
    "movies=pd.read_csv(\"database/movies_metadata.csv\")#.set_index('id')\n",
    "#print(movies.shape)\n",
    "#display(movies.head())"
   ]
  },
  {
   "cell_type": "code",
   "execution_count": 21,
   "id": "6300afaf",
   "metadata": {},
   "outputs": [],
   "source": [
    "#data cleaning\n",
    "\n",
    "#poster: https://image.tmdb.org/t/p/original/[poster_path]\n",
    "\n",
    "for index, row in movies.iterrows():\n",
    "    #print(row[\"id\"])\n",
    "    #print(int(row['id']))\n",
    "    if('-' not in row['id']):\n",
    "        movies.iloc[index, 5] = int(row['id']) #id is a string, \n",
    "    else:\n",
    "        movies.iloc[index, 5] = np.inf #Ornas!!!!\n",
    "\n",
    "shortermovies = movies[movies['id']<26800]\n"
   ]
  },
  {
   "cell_type": "code",
   "execution_count": 22,
   "id": "514b0785",
   "metadata": {},
   "outputs": [
    {
     "data": {
      "text/plain": [
       "\"[{'id': 931, 'name': 'jealousy'}, {'id': 4290, 'name': 'toy'}, {'id': 5202, 'name': 'boy'}, {'id': 6054, 'name': 'friendship'}, {'id': 9713, 'name': 'friends'}, {'id': 9823, 'name': 'rivalry'}, {'id': 165503, 'name': 'boy next door'}, {'id': 170722, 'name': 'new toy'}, {'id': 187065, 'name': 'toy comes to life'}]\""
      ]
     },
     "execution_count": 22,
     "metadata": {},
     "output_type": "execute_result"
    }
   ],
   "source": [
    "keywords.iloc[0]['keywords']"
   ]
  },
  {
   "cell_type": "code",
   "execution_count": 23,
   "id": "ccd67f56",
   "metadata": {},
   "outputs": [],
   "source": [
    "import ast \n",
    "count = 0\n",
    "def keywordextract(row):\n",
    "    keys = row['keywords']\n",
    "    keywords = []\n",
    "    if(len(keys)>0 and ']' in keys):\n",
    "        #print(keys)\n",
    "        key_dict = ast.literal_eval(keys)\n",
    "        for i in key_dict:\n",
    "            keywords.append(i['name'])\n",
    "    return keywords\n",
    "\n",
    "df_movies = pd.DataFrame(columns = ['id', 'title', 'keywords'])\n",
    "title_list = []\n",
    "for index, row in shortermovies.iterrows():\n",
    "    find = row['id']\n",
    "    if row['adult']=='False':\n",
    "        row2 = keywords.loc[find]\n",
    "        keys = keywordextract(row2)\n",
    "        if(len(keys)>0):\n",
    "            title_list = np.append(title_list, row['title'])\n",
    "            df_row = pd.DataFrame({'id':find, 'title':row['title'], 'keywords':[keys]})\n",
    "            df_movies = df_movies.append(df_row)\n",
    "            #print(df_row['keywords'])\n",
    "        \n",
    "        "
   ]
  },
  {
   "cell_type": "code",
   "execution_count": 24,
   "id": "be9681bd",
   "metadata": {},
   "outputs": [
    {
     "data": {
      "text/html": [
       "<div>\n",
       "<style scoped>\n",
       "    .dataframe tbody tr th:only-of-type {\n",
       "        vertical-align: middle;\n",
       "    }\n",
       "\n",
       "    .dataframe tbody tr th {\n",
       "        vertical-align: top;\n",
       "    }\n",
       "\n",
       "    .dataframe thead th {\n",
       "        text-align: right;\n",
       "    }\n",
       "</style>\n",
       "<table border=\"1\" class=\"dataframe\">\n",
       "  <thead>\n",
       "    <tr style=\"text-align: right;\">\n",
       "      <th></th>\n",
       "      <th>id</th>\n",
       "      <th>title</th>\n",
       "      <th>keywords</th>\n",
       "    </tr>\n",
       "  </thead>\n",
       "  <tbody>\n",
       "    <tr>\n",
       "      <th>0</th>\n",
       "      <td>862</td>\n",
       "      <td>Toy Story</td>\n",
       "      <td>[jealousy, toy, boy, friendship, friends, riva...</td>\n",
       "    </tr>\n",
       "    <tr>\n",
       "      <th>0</th>\n",
       "      <td>8844</td>\n",
       "      <td>Jumanji</td>\n",
       "      <td>[board game, disappearance, based on children'...</td>\n",
       "    </tr>\n",
       "    <tr>\n",
       "      <th>0</th>\n",
       "      <td>15602</td>\n",
       "      <td>Grumpier Old Men</td>\n",
       "      <td>[fishing, best friend, duringcreditsstinger, o...</td>\n",
       "    </tr>\n",
       "    <tr>\n",
       "      <th>0</th>\n",
       "      <td>11862</td>\n",
       "      <td>Father of the Bride Part II</td>\n",
       "      <td>[baby, midlife crisis, confidence, aging, daug...</td>\n",
       "    </tr>\n",
       "    <tr>\n",
       "      <th>0</th>\n",
       "      <td>949</td>\n",
       "      <td>Heat</td>\n",
       "      <td>[robbery, detective, bank, obsession, chase, s...</td>\n",
       "    </tr>\n",
       "  </tbody>\n",
       "</table>\n",
       "</div>"
      ],
      "text/plain": [
       "      id                        title  \\\n",
       "0    862                    Toy Story   \n",
       "0   8844                      Jumanji   \n",
       "0  15602             Grumpier Old Men   \n",
       "0  11862  Father of the Bride Part II   \n",
       "0    949                         Heat   \n",
       "\n",
       "                                            keywords  \n",
       "0  [jealousy, toy, boy, friendship, friends, riva...  \n",
       "0  [board game, disappearance, based on children'...  \n",
       "0  [fishing, best friend, duringcreditsstinger, o...  \n",
       "0  [baby, midlife crisis, confidence, aging, daug...  \n",
       "0  [robbery, detective, bank, obsession, chase, s...  "
      ]
     },
     "metadata": {},
     "output_type": "display_data"
    },
    {
     "name": "stdout",
     "output_type": "stream",
     "text": [
      "(10134, 3)\n",
      "['jealousy', 'toy', 'boy', 'friendship', 'friends', 'rivalry', 'boy next door', 'new toy', 'toy comes to life']\n"
     ]
    }
   ],
   "source": [
    "display(df_movies.head())\n",
    "print(df_movies.shape)\n",
    "print(df_movies.iloc[0]['keywords'])"
   ]
  },
  {
   "cell_type": "code",
   "execution_count": 25,
   "id": "1758a2bc",
   "metadata": {},
   "outputs": [],
   "source": [
    "#print(df_movies.iloc[0]['keywords'])\n",
    "\n",
    "def jacc_distance(movie1, movie2):\n",
    "    keys1 = movie1.keywords\n",
    "    keys2 = movie2.keywords\n",
    "    #print(\"1: \", keys1)\n",
    "    #print(\"2: \", keys2)\n",
    "    keys = keys1 + keys2\n",
    "    #print(keys)\n",
    "    a_and_b = []\n",
    "    for key in keys:\n",
    "        #print(key, type(keys1), type(keys2), type(a_and_b))\n",
    "        if key in keys1 and key in keys2 and key not in a_and_b:\n",
    "            a_and_b = np.append(a_and_b, key)\n",
    "            #print(a_and_b)\n",
    "    dist = 1-(len(a_and_b)/len(keys))\n",
    "    #print(\"done\")\n",
    "    return dist\n",
    "    "
   ]
  },
  {
   "cell_type": "code",
   "execution_count": 26,
   "id": "569eaf83",
   "metadata": {},
   "outputs": [],
   "source": [
    "import random\n",
    "class Movie:\n",
    "    def __init__(self, title, keys):\n",
    "        self.title = title\n",
    "        self.keywords = keys\n",
    "        \n",
    "\n",
    "def kmeans(df, k=1000):\n",
    "    movies = []\n",
    "    for index, rows in df_movies.iterrows():\n",
    "        movie = Movie(rows['title'], rows['keywords'])\n",
    "        movies.append(movie)\n",
    "    centroids = [[0,0,0]] * k\n",
    "    clusters = [[]] * k\n",
    "    \n",
    "    for i in range(k):\n",
    "        m = random.choice(movies)\n",
    "        centroids[i] = m\n",
    "        clusters[i] = [m]\n",
    "    clst_num = []\n",
    "    sum = 0\n",
    "    for m in movies:\n",
    "        dist = []\n",
    "        #print(m.keywords)\n",
    "        for j in range(len(centroids)):\n",
    "            dist.append(jacc_distance(m, centroids[j])) #add two of them\n",
    "        if np.sum(dist)==0:\n",
    "            print(\"DELETED\", m.title)\n",
    "        else:\n",
    "            index = dist.index(min(dist))\n",
    "            clusters[index].append(m)\n",
    "            clst_num.append(index)\n",
    "        sum = sum + min(dist)\n",
    "        \n",
    "    meanerror = sum/len(movies)\n",
    "    return centroids, clusters, meanerror, clst_num\n",
    "\n",
    "centroids, clusters, meanerror, clst_num = kmeans(df_movies)"
   ]
  },
  {
   "cell_type": "code",
   "execution_count": 27,
   "id": "67d34f26",
   "metadata": {},
   "outputs": [
    {
     "data": {
      "image/png": "[encoded data removed]",
      "text/plain": [
       "<Figure size 432x288 with 1 Axes>"
      ]
     },
     "metadata": {
      "needs_background": "light"
     },
     "output_type": "display_data"
    }
   ],
   "source": [
    "import matplotlib.pyplot as plt\n",
    "sizes = []\n",
    "\n",
    "for cluster in clusters:\n",
    "    sizes = np.append(sizes, len(cluster))\n",
    "\n",
    "plt.hist(sizes, bins=100)\n",
    "plt.show()"
   ]
  },
  {
   "cell_type": "code",
   "execution_count": 37,
   "id": "ff368097",
   "metadata": {},
   "outputs": [
    {
     "name": "stdout",
     "output_type": "stream",
     "text": [
      "What Movie Do You Want to Know About? Seven Swords\n",
      "Seven Swords? Excellent Choice!\n",
      "Loading...\n",
      "Found Seven Swords\n",
      "If you liked Seven Swords, we would recommend trying One Girl's Confession\n",
      "They are both about b movie \n"
     ]
    }
   ],
   "source": [
    "def finder(title, clusters = clusters):\n",
    "    print(\"Loading...\")\n",
    "    found = None\n",
    "    given_movie = None\n",
    "    for c in range(len(clusters)):\n",
    "        for movie in clusters[c]:\n",
    "            if title==movie.title:\n",
    "                found = c\n",
    "                given_movie = movie\n",
    "                print(\"Found \" + title)\n",
    "                break\n",
    "            if(found!=None):\n",
    "                break\n",
    "        if(found!=None):\n",
    "            break\n",
    "    movie_rec = random.choice(clusters[found])\n",
    "    #print(given_movie.title)\n",
    "    #for rec in clusters[c]:\n",
    "    #    print(rec.title)\n",
    "    print(\"If you liked \" + title + \", we would recommend trying \" + movie_rec.title)\n",
    "    \n",
    "    keys = given_movie.keywords + movie_rec.keywords\n",
    "    #print(keys)\n",
    "    the_and = []\n",
    "    for k in keys:\n",
    "        if k in given_movie.keywords and k in movie_rec.keywords and k not in the_and:\n",
    "            the_and = np.append(the_and, k)\n",
    "    strng = \"They are both about \"\n",
    "    for a in the_and:\n",
    "        strng = strng+a + \" \"\n",
    "    print(strng)\n",
    "\n",
    "\n",
    "title = input(\"What Movie Do You Want to Know About? \")\n",
    "found = False\n",
    "while not found:\n",
    "    if title in title_list:\n",
    "        print(title + \"? Excellent Choice!\")\n",
    "        finder(title)\n",
    "        found = True\n",
    "    else:\n",
    "        print(title + \"? I haven't heard of that one! Can you give me another?\")\n",
    "        title = input(\"What Movie Do You Want to Know About?\")\n"
   ]
  },
  {
   "cell_type": "code",
   "execution_count": 29,
   "id": "c6e00156",
   "metadata": {},
   "outputs": [
    {
     "name": "stdout",
     "output_type": "stream",
     "text": [
      "Cluster:Break\n"
     ]
    }
   ],
   "source": [
    "inp = input(\"Cluster:\")\n",
    "while inp!= \"Break\":\n",
    "    ind = int(inp)\n",
    "    for c in clusters[ind]:\n",
    "        print(c.title)\n",
    "    inp = input(\"Next: \")"
   ]
  },
  {
   "cell_type": "code",
   "execution_count": null,
   "id": "13e8c584",
   "metadata": {},
   "outputs": [],
   "source": []
  },
  {
   "cell_type": "code",
   "execution_count": null,
   "id": "2ebb53fe",
   "metadata": {},
   "outputs": [],
   "source": []
  }
 ],
 "metadata": {
  "kernelspec": {
   "display_name": "Python 3",
   "language": "python",
   "name": "python3"
  },
  "language_info": {
   "codemirror_mode": {
    "name": "ipython",
    "version": 3
   },
   "file_extension": ".py",
   "mimetype": "text/x-python",
   "name": "python",
   "nbconvert_exporter": "python",
   "pygments_lexer": "ipython3",
   "version": "3.8.8"
  }
 },
 "nbformat": 4,
 "nbformat_minor": 5
}
